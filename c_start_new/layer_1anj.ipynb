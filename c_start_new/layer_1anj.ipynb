{
 "cells": [
  {
   "cell_type": "code",
   "execution_count": 1,
   "metadata": {},
   "outputs": [
    {
     "name": "stdout",
     "output_type": "stream",
     "text": [
      "0.00625\n",
      "[[ -0.30956829]\n",
      " [205.        ]\n",
      " [  0.93847046]\n",
      " [  1.        ]]\n",
      "anjana\n"
     ]
    }
   ],
   "source": [
    "from functions_anj import *\n",
    "m_c = np.array([[0],[205],[0],[1]])\n",
    "t3 = np.array([[150],[0],[50],[1]])\n",
    "p = np.array([[1],[0],[0],[1]])\n",
    "tb_2trans = trans_t1(-3)  @m_c\n",
    "print(tb_2trans)\n",
    "print('anjana')\n",
    "\n"
   ]
  },
  {
   "cell_type": "code",
   "execution_count": null,
   "metadata": {},
   "outputs": [],
   "source": []
  }
 ],
 "metadata": {
  "kernelspec": {
   "display_name": "Python 3",
   "language": "python",
   "name": "python3"
  },
  "language_info": {
   "codemirror_mode": {
    "name": "ipython",
    "version": 3
   },
   "file_extension": ".py",
   "mimetype": "text/x-python",
   "name": "python",
   "nbconvert_exporter": "python",
   "pygments_lexer": "ipython3",
   "version": "3.12.3"
  }
 },
 "nbformat": 4,
 "nbformat_minor": 2
}
