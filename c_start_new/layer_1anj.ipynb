{
 "cells": [
  {
   "cell_type": "code",
   "execution_count": 22,
   "metadata": {},
   "outputs": [
    {
     "name": "stdout",
     "output_type": "stream",
     "text": [
      "[[2.84217094e-14]\n",
      " [2.05000000e+02]\n",
      " [2.50000000e+00]\n",
      " [1.00000000e+00]]\n"
     ]
    }
   ],
   "source": [
    "from girder_functions import *\n",
    "m_c = np.array([[0],[205],[0],[1]])\n",
    "turns = [0,0,-10,0,0,0]\n",
    "m_c_new = move_girder(turns) @ m_c\n",
    "print(m_c_new)\n"
   ]
  },
  {
   "cell_type": "code",
   "execution_count": 16,
   "metadata": {},
   "outputs": [
    {
     "data": {
      "text/latex": [
       "$\\displaystyle \\left[\\begin{matrix}1.06444016340236 & 0 & - 0.00221758367375492 t_{1} + 0.00221758367375492 t_{2} & 0.110879183687746 t_{1} - 0.110879183687746 t_{2} - 8.055020425295\\\\0 & 1 & 0.00112896762630049 w_{2} - 0.00116477519936575 w_{3} & 0.05 w_{1} + 0.0251326452196228 w_{2} + 0.025929779706972 w_{3}\\\\0.00221758367375492 t_{1} - 0.00221758367375492 t_{2} & - 0.00116477519936575 w_{2} + 0.00112896762630049 w_{3} & 1.06444016340236 & - 0.332637551063238 t_{1} + 0.332637551063238 t_{2} - 0.26611004085059 t_{3}\\\\0 & 0 & 0 & 1\\end{matrix}\\right]$"
      ],
      "text/plain": [
       "Matrix([\n",
       "[                               1.06444016340236,                                                0, -0.00221758367375492*t1 + 0.00221758367375492*t2,       0.110879183687746*t1 - 0.110879183687746*t2 - 8.055020425295],\n",
       "[                                              0,                                                1,  0.00112896762630049*w2 - 0.00116477519936575*w3,             0.05*w1 + 0.0251326452196228*w2 + 0.025929779706972*w3],\n",
       "[0.00221758367375492*t1 - 0.00221758367375492*t2, -0.00116477519936575*w2 + 0.00112896762630049*w3,                                 1.06444016340236, -0.332637551063238*t1 + 0.332637551063238*t2 - 0.26611004085059*t3],\n",
       "[                                              0,                                                0,                                                0,                                                                  1]])"
      ]
     },
     "execution_count": 16,
     "metadata": {},
     "output_type": "execute_result"
    }
   ],
   "source": [
    "from sympy import symbols, Matrix, expand, simplify\n",
    "\n",
    "# Constants and symbols\n",
    "t1, t2, t3, w1, w2, w3 = symbols('t1 t2 t3 w1 w2 w3')\n",
    "turns = [t1, t2, t3, w1, w2, w3]\n",
    "m_c = Matrix([0, 205, 0, 1])\n",
    "\n",
    "# Compute the new position (symbolic calculation)\n",
    "m_c_new = move_girder(turns)\n",
    "\n",
    "# Filter significant terms: only keep terms of interest symbolically\n",
    "def filter_significant(expr, threshold=1e-3):\n",
    "    expr_expanded = expand(expr)  # Expand the expression\n",
    "    significant_terms = [term for term in expr_expanded.as_ordered_terms() if abs(term.as_coeff_Mul()[0]) > threshold]\n",
    "    return sum(significant_terms)\n",
    "\n",
    "m_c_new_simplified = m_c_new.applyfunc(lambda x: filter_significant(x))\n",
    "\n",
    "# Print the result\n",
    "m_c_new_simplified\n"
   ]
  }
 ],
 "metadata": {
  "kernelspec": {
   "display_name": "Python 3",
   "language": "python",
   "name": "python3"
  },
  "language_info": {
   "codemirror_mode": {
    "name": "ipython",
    "version": 3
   },
   "file_extension": ".py",
   "mimetype": "text/x-python",
   "name": "python",
   "nbconvert_exporter": "python",
   "pygments_lexer": "ipython3",
   "version": "3.10.12"
  }
 },
 "nbformat": 4,
 "nbformat_minor": 2
}
