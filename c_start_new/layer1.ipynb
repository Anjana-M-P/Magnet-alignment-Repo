{
 "cells": [
  {
   "cell_type": "code",
   "execution_count": 10,
   "metadata": {},
   "outputs": [
    {
     "ename": "NameError",
     "evalue": "name 'angle' is not defined",
     "output_type": "error",
     "traceback": [
      "\u001b[1;31m---------------------------------------------------------------------------\u001b[0m",
      "\u001b[1;31mNameError\u001b[0m                                 Traceback (most recent call last)",
      "Cell \u001b[1;32mIn[10], line 42\u001b[0m\n\u001b[0;32m     39\u001b[0m     \u001b[38;5;28;01mreturn\u001b[39;00m T\n\u001b[0;32m     41\u001b[0m m_c \u001b[38;5;241m=\u001b[39m np\u001b[38;5;241m.\u001b[39marray([[\u001b[38;5;241m0\u001b[39m],[\u001b[38;5;241m205\u001b[39m],[\u001b[38;5;241m0\u001b[39m],[\u001b[38;5;241m1\u001b[39m]])\n\u001b[1;32m---> 42\u001b[0m m_c_trans \u001b[38;5;241m=\u001b[39m \u001b[43mtrans_t2\u001b[49m\u001b[43m(\u001b[49m\u001b[38;5;241;43m-\u001b[39;49m\u001b[38;5;241;43m3\u001b[39;49m\u001b[43m)\u001b[49m  \u001b[38;5;241m@\u001b[39m rot_matrix(angle,axis\u001b[38;5;241m=\u001b[39m\u001b[38;5;124m'\u001b[39m\u001b[38;5;124my\u001b[39m\u001b[38;5;124m'\u001b[39m) \u001b[38;5;241m@\u001b[39m trans_t2(\u001b[38;5;241m3\u001b[39m) \u001b[38;5;241m@\u001b[39m m_c\n\u001b[0;32m     43\u001b[0m \u001b[38;5;28mprint\u001b[39m(m_c_trans)\n",
      "Cell \u001b[1;32mIn[10], line 38\u001b[0m, in \u001b[0;36mtrans_t2\u001b[1;34m(t2)\u001b[0m\n\u001b[0;32m     36\u001b[0m l \u001b[38;5;241m=\u001b[39m \u001b[38;5;241m-\u001b[39m\u001b[38;5;241m0.25\u001b[39m\u001b[38;5;241m*\u001b[39mt2\n\u001b[0;32m     37\u001b[0m t_t3 \u001b[38;5;241m=\u001b[39m np\u001b[38;5;241m.\u001b[39marray([[\u001b[38;5;241m150\u001b[39m],[\u001b[38;5;241m0\u001b[39m],[\u001b[38;5;241m50\u001b[39m]])\n\u001b[1;32m---> 38\u001b[0m T \u001b[38;5;241m=\u001b[39m trans_matrix(\u001b[38;5;241m-\u001b[39mt_t3) \u001b[38;5;241m@\u001b[39m rot_matrix(\u001b[43mangle\u001b[49m,axis\u001b[38;5;241m=\u001b[39m\u001b[38;5;124m'\u001b[39m\u001b[38;5;124my\u001b[39m\u001b[38;5;124m'\u001b[39m) \u001b[38;5;241m@\u001b[39m trans_matrix(t_t3)\u001b[38;5;66;03m#\u001b[39;00m\n\u001b[0;32m     39\u001b[0m \u001b[38;5;28;01mreturn\u001b[39;00m T\n",
      "\u001b[1;31mNameError\u001b[0m: name 'angle' is not defined"
     ]
    }
   ],
   "source": [
    "from girder_functions import *\n",
    "R = np.array([[1],[2],[3]]) # array of t1,t2,t3\n",
    "\n",
    "def rot_matrix(angle,axis='y'):\n",
    "    if axis == 'x':\n",
    "        R = np.array([\n",
    "        [1, 0, 0, 0],\n",
    "        [0,np.cos(angle),-np.sin(angle), 0],\n",
    "        [0,np.sin(angle), np.cos(angle), 0],\n",
    "        [0, 0, 0, 1]])\n",
    "    elif axis == 'y':\n",
    "        R = np.array([\n",
    "        [np.cos(angle), 0, np.sin(angle), 0],\n",
    "        [0, 1, 0, 0],\n",
    "        [-np.sin(angle), 0, np.cos(angle), 0],\n",
    "        [0, 0, 0, 1]])\n",
    "    elif axis == 'z':\n",
    "        R = np.array([\n",
    "        [np.cos(angle),-np.sin(angle),0, 0],\n",
    "        [np.sin(angle), np.cos(angle),0, 0],\n",
    "        [0, 0, 1, 0],\n",
    "        [0, 0, 0, 1]])\n",
    "    else:\n",
    "        R = np.eye(4,4)\n",
    "        print('invalid axis given')\n",
    "    return R\n",
    "\n",
    "def trans_t3(t3):\n",
    "    l = -0.25*t3\n",
    "    t = np.array([[0],[0],[l]])\n",
    "    # Assuming pure translation in z for t3\n",
    "    T = trans_matrix(t)\n",
    "    return T\n",
    "\n",
    "def trans_t2(t2):\n",
    "    l = -0.25*t2\n",
    "    t_t3 = np.array([[150],[0],[50]])\n",
    "    T = trans_matrix(-t_t3) @ rot_matrix(angle,axis='y') @ trans_matrix(t_t3)#\n",
    "    return T\n",
    "\n",
    "m_c = np.array([[0],[205],[0],[1]])\n",
    "m_c_trans = trans_t2(-3)  @ rot_matrix(angle,axis='y') @ trans_t2(3) @ m_c\n",
    "print(m_c_trans)\n",
    "\n"
   ]
  },
  {
   "cell_type": "code",
   "execution_count": null,
   "metadata": {},
   "outputs": [],
   "source": []
  },
  {
   "cell_type": "code",
   "execution_count": null,
   "metadata": {},
   "outputs": [],
   "source": []
  },
  {
   "cell_type": "code",
   "execution_count": null,
   "metadata": {},
   "outputs": [],
   "source": []
  },
  {
   "cell_type": "code",
   "execution_count": null,
   "metadata": {},
   "outputs": [],
   "source": []
  }
 ],
 "metadata": {
  "kernelspec": {
   "display_name": "Python 3",
   "language": "python",
   "name": "python3"
  },
  "language_info": {
   "codemirror_mode": {
    "name": "ipython",
    "version": 3
   },
   "file_extension": ".py",
   "mimetype": "text/x-python",
   "name": "python",
   "nbconvert_exporter": "python",
   "pygments_lexer": "ipython3",
   "version": "3.12.3"
  }
 },
 "nbformat": 4,
 "nbformat_minor": 2
}
