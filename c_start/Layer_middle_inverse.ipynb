{
 "cells": [
  {
   "cell_type": "code",
   "execution_count": 1,
   "metadata": {},
   "outputs": [],
   "source": [
    "import numpy as np\n",
    "\n",
    "# Function for the distance between two points\n",
    "def distance(p1, p2):\n",
    "    return np.linalg.norm(p2 - p1)\n",
    "\n",
    "# Rotation matrix for small angle approximation\n",
    "def rotation_matrix(eta):\n",
    "    return np.array([[1, (eta)],\n",
    "                     [-(eta), 1]])\n",
    "\n",
    "# Apply transformation to a point\n",
    "def transform(p, R, T):\n",
    "    return np.dot(R, (p + T))\n",
    "\n",
    "def inverse_trans(u,w,eta):\n",
    "    # Initial points in layer 2\n",
    "    p21_0 = np.array([30, 60])\n",
    "    p22_0 = np.array([30, -60])\n",
    "    p23_0 = np.array([-150, -50])\n",
    "\n",
    "    # Initial points in layer 1\n",
    "    p11 = np.array([-75, 60])\n",
    "    p12 = np.array([-75, -60])\n",
    "    p13 = np.array([-150, 55])\n",
    "\n",
    "    # R = rotation_matrix(eta) \n",
    "    R = rotation_matrix(eta*np.pi/180)\n",
    "    T = np.array([u,w])\n",
    "\n",
    "    p21_i = transform(p21_0, R, T)\n",
    "    p22_i = transform(p22_0, R, T)\n",
    "    p23_i = transform(p23_0, R, T)\n",
    "\n",
    "    d1_i = distance(p21_i,p11)\n",
    "    d1_0 = distance(p21_0,p11)\n",
    "\n",
    "    d2_i = distance(p22_i,p12)\n",
    "    d2_0 = distance(p22_0,p12)\n",
    "\n",
    "    d3_i = distance(p23_i,p13)\n",
    "    d3_0 = distance(p23_0,p13)\n",
    "\n",
    "    n1 = (d1_i - d1_0)/0.25\n",
    "    n2 = (d2_i - d2_0)/0.25\n",
    "    n3 = (d3_i - d3_0)/0.25\n",
    "\n",
    "    return n1,n2,n3\n"
   ]
  },
  {
   "cell_type": "code",
   "execution_count": 2,
   "metadata": {},
   "outputs": [
    {
     "name": "stdout",
     "output_type": "stream",
     "text": [
      "11.944779778083216 -2.4525690189214515 -13.453813925695783\n"
     ]
    }
   ],
   "source": [
    "u = 1.2\n",
    "w = -1.1\n",
    "eta = 1.718873\n",
    "n1,n2,n3 = inverse_trans(u,w,eta)\n",
    "print(n1,n2,n3)"
   ]
  },
  {
   "cell_type": "code",
   "execution_count": null,
   "metadata": {},
   "outputs": [],
   "source": []
  }
 ],
 "metadata": {
  "kernelspec": {
   "display_name": "Python 3",
   "language": "python",
   "name": "python3"
  },
  "language_info": {
   "codemirror_mode": {
    "name": "ipython",
    "version": 3
   },
   "file_extension": ".py",
   "mimetype": "text/x-python",
   "name": "python",
   "nbconvert_exporter": "python",
   "pygments_lexer": "ipython3",
   "version": "3.12.3"
  }
 },
 "nbformat": 4,
 "nbformat_minor": 2
}
