{
 "cells": [
  {
   "cell_type": "code",
   "execution_count": 21,
   "metadata": {},
   "outputs": [
    {
     "name": "stdout",
     "output_type": "stream",
     "text": [
      "final position is:\n",
      "[-0.41874685  0.07499977  1.0355006   0.00111199 -0.01041687 -0.00140001]\n",
      "[ 1.    0.75  0.   -2.5   2.75  0.25]\n"
     ]
    }
   ],
   "source": [
    "from girder_functions import *\n",
    "import numpy as np\n",
    "turns = [ -3, 2, 3,-1 ,3,2]\n",
    "final_pos = move_girder(turns)\n",
    "print(f'final position is:\\n'\n",
    "       f'{final_pos}')\n",
    "final_pos = [-0.0820,-0.0505,0.4555,2.22,0,-0.40]\n",
    "turns_guess = move_girder_inv(final_pos)\n",
    "turns_guess_rounded = np.round(move_girder_inv(final_pos)/0.25)*0.25\n",
    "print(turns_guess_rounded)"
   ]
  },
  {
   "cell_type": "code",
   "execution_count": 22,
   "metadata": {},
   "outputs": [
    {
     "ename": "SyntaxError",
     "evalue": "invalid syntax (23168159.py, line 1)",
     "output_type": "error",
     "traceback": [
      "\u001b[1;36m  Cell \u001b[1;32mIn[22], line 1\u001b[1;36m\u001b[0m\n\u001b[1;33m    -0.41874685  0.07499977  1.0355006   0.00111199 -0.01041687 -0.00140001\u001b[0m\n\u001b[1;37m                 ^\u001b[0m\n\u001b[1;31mSyntaxError\u001b[0m\u001b[1;31m:\u001b[0m invalid syntax\n"
     ]
    }
   ],
   "source": [
    "-0.41874685  0.07499977  1.0355006   0.00111199 -0.01041687 -0.00140001"
   ]
  }
 ],
 "metadata": {
  "kernelspec": {
   "display_name": "Python 3",
   "language": "python",
   "name": "python3"
  },
  "language_info": {
   "codemirror_mode": {
    "name": "ipython",
    "version": 3
   },
   "file_extension": ".py",
   "mimetype": "text/x-python",
   "name": "python",
   "nbconvert_exporter": "python",
   "pygments_lexer": "ipython3",
   "version": "3.12.3"
  }
 },
 "nbformat": 4,
 "nbformat_minor": 2
}
