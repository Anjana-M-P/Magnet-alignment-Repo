{
 "cells": [
  {
   "cell_type": "code",
   "execution_count": null,
   "metadata": {},
   "outputs": [
    {
     "name": "stdout",
     "output_type": "stream",
     "text": [
      "final position is:[ 0.4188436   0.07467242 -1.03522224 -0.00111064 -0.01041687  0.0014005 ]\n",
      "0.7616205525480849 0.874899030302438 0.5891703327231097\n",
      "final position is:[-2.43764190e-03  7.46724128e-02 -6.50741411e-02 -3.17434800e-04\n",
      "  0.00000000e+00 -1.18909000e-05]\n"
     ]
    }
   ],
   "source": [
    "from girder_functions import *\n",
    "import numpy as np\n",
    "# turns = np.round(np.random.uniform(-5, 5, 6) / 0.25) * 0.25\n",
    "# turns.tolist()\n",
    "turns = [-3,2,3,-1,3,2]\n",
    "final_pos = move_girder(turns)\n",
    "print(f'final position is:{final_pos}')\n",
    "\n",
    "w1,w2,w3 = move_girder_inv(final_pos)\n",
    "print(w1,w2,w3)\n",
    "final_pos = move_girder([0,0,0,w1,w2,w3])\n",
    "print(f'final position is:{final_pos}')"
   ]
  },
  {
   "cell_type": "code",
   "execution_count": 63,
   "metadata": {},
   "outputs": [
    {
     "data": {
      "text/plain": [
       "19770609664"
      ]
     },
     "execution_count": 63,
     "metadata": {},
     "output_type": "execute_result"
    }
   ],
   "source": [
    "(13*4)**6"
   ]
  },
  {
   "cell_type": "code",
   "execution_count": 52,
   "metadata": {},
   "outputs": [
    {
     "data": {
      "text/plain": [
       "array([[ 0.28700196],\n",
       "       [ 0.07467252],\n",
       "       [-0.22762511],\n",
       "       [ 0.        ]])"
      ]
     },
     "execution_count": 52,
     "metadata": {},
     "output_type": "execute_result"
    }
   ],
   "source": [
    "magnet_c = np.array([[0],[205],[0],[1]])\n",
    "(trans_w3(2) @ trans_w2(3) @ trans_w1(-1)@ magnet_c) - magnet_c"
   ]
  },
  {
   "cell_type": "code",
   "execution_count": 53,
   "metadata": {},
   "outputs": [
    {
     "data": {
      "text/plain": [
       "array([[ 0.49235735],\n",
       "       [ 0.29889966],\n",
       "       [-0.45685848],\n",
       "       [ 0.        ]])"
      ]
     },
     "execution_count": 53,
     "metadata": {},
     "output_type": "execute_result"
    }
   ],
   "source": [
    "magnet_c = np.array([[0],[205],[0],[1]])\n",
    "(trans_w2(7) @ trans_w3(5) @ trans_w1(0)@ magnet_c) - magnet_c"
   ]
  },
  {
   "cell_type": "code",
   "execution_count": 54,
   "metadata": {},
   "outputs": [
    {
     "data": {
      "text/plain": [
       "array([ 7.46724065e-02, -3.17633500e-04, -1.17821000e-05])"
      ]
     },
     "execution_count": 54,
     "metadata": {},
     "output_type": "execute_result"
    }
   ],
   "source": [
    "turns = move_girder_inv(final_pos)\n",
    "\n",
    "change_wedge(turns)\n"
   ]
  },
  {
   "cell_type": "code",
   "execution_count": 55,
   "metadata": {},
   "outputs": [
    {
     "name": "stdout",
     "output_type": "stream",
     "text": [
      "[[2.49997345e-04]\n",
      " [2.49994689e-01]\n",
      " [1.38887414e-03]\n",
      " [1.00000000e+00]]\n"
     ]
    }
   ],
   "source": [
    "w1,w2,w3 = 0,0,10\n",
    "magnet_b = np.array([[0],[0],[0],[1]])\n",
    "magnet_c = np.array([[0],[205],[0],[1]])\n",
    "# m_c_l3 = trans_w1(w1) @ trans_w3(w3) @ trans_w2(w2) @  magnet_c\n",
    "# m_b_l3 = trans_w1(w1) @ trans_w3(w3) @ trans_w2(w2)  @ magnet_b\n",
    "m_b_l3 = trans_w3(w3) @ magnet_b\n",
    "print(m_b_l3)\n",
    "\n",
    "# delta_x = np.round(m_c_l3[0,0],10)\n",
    "# delta_y = np.round(m_b_l3[1,0],10)\n",
    "# delta_z = np.round(m_c_l3[2,0],10)\n",
    "# pitch =  np.round(m_c_l3[2,0]/205,10) # around x \n",
    "# roll =   np.round(m_c_l3[0,0]/205,10) # around z\n",
    "# print(delta_x,delta_y,delta_z,pitch,roll)"
   ]
  },
  {
   "cell_type": "code",
   "execution_count": 56,
   "metadata": {},
   "outputs": [
    {
     "name": "stdout",
     "output_type": "stream",
     "text": [
      "0.8194957074\n"
     ]
    }
   ],
   "source": [
    "w1,w2,w3 = -5,5,5\n",
    "magnet_b = np.array([[0],[0],[0],[1]])\n",
    "magnet_c = np.array([[0],[205],[0],[1]])\n",
    "m_c_l3 = trans_w2(w2) @ trans_w3(w3) @ trans_w1(w1) @ magnet_c\n",
    "m_b_l3 = trans_w2(w2) @ trans_w3(w3) @ trans_w1(w1) @ magnet_b\n",
    "delta_x = np.round(m_c_l3[0,0],10)\n",
    "delta_y = np.round(m_b_l3[1,0],10)\n",
    "delta_z = np.round(m_c_l3[2,0],10)\n",
    "pitch =  np.round(m_c_l3[2,0]/205,10) # around x \n",
    "roll =   np.round(m_c_l3[0,0]/205,10) # around \n",
    "print(delta_x)"
   ]
  },
  {
   "cell_type": "code",
   "execution_count": 57,
   "metadata": {},
   "outputs": [
    {
     "name": "stdout",
     "output_type": "stream",
     "text": [
      "[-0.21022374  0.07467242 -0.97886687 -0.00111064  0.          0.0014005 ]\n"
     ]
    }
   ],
   "source": [
    "from girder_functions import *\n",
    "import numpy as np\n",
    "# turns = np.round(np.random.uniform(-5, 5, 6) / 0.25) * 0.25\n",
    "# turns.tolist()\n",
    "turns = [ 2,2,-3,-1,3,2 ]\n",
    "final_pos = move_girder(turns)\n",
    "print(final_pos)\n",
    "# turns_guess = move_girder_inv(final_pos)\n",
    "# turns_guess_rounded = np.round(move_girder_inv(final_pos)/0.25)*0.25\n",
    "# print(turns)\n",
    "# print(turns_guess)\n",
    "# print(turns_guess_rounded)\n",
    "# final_pos_guess = move_girder(turns_guess)\n",
    "# final_pos_guess_rounded = move_girder(turns_guess_rounded)\n",
    "\n",
    "# # Calculate the errors in millimeters (multiplied by 1000)\n",
    "# errors = [(final - guess) * 1000 for final, guess in zip(final_pos, final_pos_guess)]\n",
    "# print(errors)\n",
    "# # Check if any error is above 50 and print a message if true\n",
    "# if any(error > 50 for error in errors):\n",
    "#     print(\"Tolerance reached\")\n",
    "# print('_'*50)\n",
    "# var_names = ['dx','dy','dz','pitch','yaw','roll']\n",
    "# # Calculate the errors in millimeters (multiplied by 1000)\n",
    "# errors = [(final - guess) * 1000 for final, guess in zip(final_pos, final_pos_guess_rounded)]\n",
    "# # Check if any error is above 50 and print a message if true\n",
    "# if any(abs(error) > 20 for error in errors):\n",
    "#     print(\"Above the Tolerance limit !!!\")\n",
    "#     for i,error in enumerate(errors):\n",
    "#         print(f'{var_names[i]} : {error}')\n",
    "\n",
    "\n"
   ]
  },
  {
   "cell_type": "code",
   "execution_count": 58,
   "metadata": {},
   "outputs": [
    {
     "ename": "NameError",
     "evalue": "name 'turns_guess' is not defined",
     "output_type": "error",
     "traceback": [
      "\u001b[1;31m---------------------------------------------------------------------------\u001b[0m",
      "\u001b[1;31mNameError\u001b[0m                                 Traceback (most recent call last)",
      "Cell \u001b[1;32mIn[58], line 1\u001b[0m\n\u001b[1;32m----> 1\u001b[0m \u001b[38;5;28mprint\u001b[39m(\u001b[43mturns_guess\u001b[49m)\n\u001b[0;32m      2\u001b[0m \u001b[38;5;28mprint\u001b[39m(turns_guess_rounded)\n\u001b[0;32m      3\u001b[0m final_pos_guess \u001b[38;5;241m=\u001b[39m move_girder(turns_guess)\n",
      "\u001b[1;31mNameError\u001b[0m: name 'turns_guess' is not defined"
     ]
    }
   ],
   "source": [
    "print(turns_guess)\n",
    "print(turns_guess_rounded)\n",
    "final_pos_guess = move_girder(turns_guess)\n",
    "final_pos_guess_rounded = move_girder(turns_guess_rounded)\n",
    "\n",
    "# Calculate the errors in millimeters (multiplied by 1000)\n",
    "errors = [(final - guess) * 1000 for final, guess in zip(final_pos, final_pos_guess)]\n",
    "print(errors)\n",
    "# Check if any error is above 50 and print a message if true\n",
    "if any(error > 50 for error in errors):\n",
    "    print(\"Tolerance reached\")\n",
    "print('_'*50)\n",
    "var_names = ['dx','dy','dz','pitch','yaw','roll']\n",
    "# Calculate the errors in millimeters (multiplied by 1000)\n",
    "errors = [(final - guess) * 1000 for final, guess in zip(final_pos, final_pos_guess_rounded)]\n",
    "# Check if any error is above 50 and print a message if true\n",
    "if any(abs(error) > 20 for error in errors):\n",
    "    print(\"Above the Tolerance limit !!!\")\n",
    "    for i,error in enumerate(errors):\n",
    "        print(f'{var_names[i]} : {error}')\n"
   ]
  },
  {
   "cell_type": "code",
   "execution_count": null,
   "metadata": {},
   "outputs": [],
   "source": []
  },
  {
   "cell_type": "code",
   "execution_count": null,
   "metadata": {},
   "outputs": [],
   "source": []
  }
 ],
 "metadata": {
  "kernelspec": {
   "display_name": "Python 3",
   "language": "python",
   "name": "python3"
  },
  "language_info": {
   "codemirror_mode": {
    "name": "ipython",
    "version": 3
   },
   "file_extension": ".py",
   "mimetype": "text/x-python",
   "name": "python",
   "nbconvert_exporter": "python",
   "pygments_lexer": "ipython3",
   "version": "3.12.3"
  }
 },
 "nbformat": 4,
 "nbformat_minor": 2
}
